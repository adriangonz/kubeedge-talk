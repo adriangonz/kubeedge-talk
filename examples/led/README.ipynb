{
 "cells": [
  {
   "cell_type": "markdown",
   "metadata": {},
   "source": [
    "# Controlling a LED through KubeEdge\n",
    "\n",
    "This example walks through how to control a LED hooked to a Raspberry Pi, via a Kubernetes pod deployed through KubeEdge.\n",
    "\n",
    "![raspberry-sketch](./images/raspberry-sketch.png)"
   ]
  },
  {
   "cell_type": "markdown",
   "metadata": {},
   "source": [
    "## Pre-requisites"
   ]
  },
  {
   "cell_type": "markdown",
   "metadata": {},
   "source": [
    "### Kubernetes Cluster\n",
    "\n",
    "The example assumes that there is a Kubernetes cluster already created, accessible through `kubectl`. \n",
    "If you don't have one, you can use [Kind](https://github.com/kubernetes-sigs/kind) to create one locally."
   ]
  },
  {
   "cell_type": "markdown",
   "metadata": {},
   "source": [
    "#### KubeEdge\n",
    "\n",
    "The example assumes that KubeEdge has already been installed in the cluster, exposing the `cloudcore` component so that it's accessible from an edge device."
   ]
  },
  {
   "cell_type": "markdown",
   "metadata": {},
   "source": [
    "### Edge Device\n",
    "\n",
    "The example assumes that the edge device is a Raspberry Pi with an ARMv7 architecture of 32 bits.\n",
    "In particular, the example has been tested with a Raspberry Pi 3 Model B V1.2.\n",
    "We will assume that this device has been pre-synced through KubeEdge and that it's already visible as a node in the cluster with name `raspberry`. \n",
    "\n",
    "The example also requires that the Raspberry Pi has a LED attached as the diagram shown above."
   ]
  },
  {
   "cell_type": "markdown",
   "metadata": {},
   "source": [
    "## LED Blinker\n",
    "\n",
    "We will leverage the `gpiozero` library to implement a quick script which makes the attached LED blink.\n",
    "Then, we will containerise it and deploy it to our `raspberry` node leveraging KubeEdge."
   ]
  },
  {
   "cell_type": "markdown",
   "metadata": {},
   "source": [
    "### Implementation\n",
    "\n",
    "The code itself is very simple.\n",
    "It will make the led blink every second."
   ]
  },
  {
   "cell_type": "code",
   "execution_count": 2,
   "metadata": {},
   "outputs": [
    {
     "name": "stdout",
     "output_type": "stream",
     "text": [
      "Overwriting led.py\n"
     ]
    }
   ],
   "source": [
    "%%writefile led.py\n",
    "from gpiozero import LED\n",
    "from time import sleep\n",
    "\n",
    "led = LED(17)\n",
    "\n",
    "while True:\n",
    "    led.on()\n",
    "    sleep(1)\n",
    "    led.off()\n",
    "    sleep(1)"
   ]
  },
  {
   "cell_type": "markdown",
   "metadata": {},
   "source": [
    "### Containerisation\n",
    "\n",
    "The next step will be containerising this example as a Docker image which can be deployed later.\n",
    "Note that this image needs to be compatible with the ARM architecture of the Raspberry Pi.\n",
    "\n",
    "For that, we will leverage the `arm32v7/python` image as base."
   ]
  },
  {
   "cell_type": "code",
   "execution_count": 1,
   "metadata": {},
   "outputs": [
    {
     "name": "stdout",
     "output_type": "stream",
     "text": [
      "Overwriting Dockerfile\n"
     ]
    }
   ],
   "source": [
    "%%writefile Dockerfile\n",
    "FROM arm32v7/python:3.7.8-slim\n",
    "\n",
    "WORKDIR /usr/src/app\n",
    "\n",
    "COPY requirements.txt ./\n",
    "RUN pip install -r requirements.txt\n",
    "\n",
    "COPY . .\n",
    "\n",
    "CMD [ \"python\", \"./led.py\" ]"
   ]
  },
  {
   "cell_type": "code",
   "execution_count": null,
   "metadata": {},
   "outputs": [
    {
     "name": "stdout",
     "output_type": "stream",
     "text": [
      "Sending build context to Docker daemon  278.5kB\n",
      "Step 1/6 : FROM arm32v7/python:3.7.8-slim\n",
      " ---> 4eaf7bd6a6cb\n",
      "Step 2/6 : WORKDIR /usr/src/app\n",
      " ---> Using cache\n",
      " ---> a47231aaeda8\n",
      "Step 3/6 : COPY requirements.txt ./\n",
      " ---> 3085133a719c\n",
      "Step 4/6 : RUN pip install -r requirements.txt\n",
      " ---> Running in 98053fb28fdb\n"
     ]
    }
   ],
   "source": [
    "!docker build \\\n",
    "    . \\\n",
    "    --platform linux/arm/v7 \\\n",
    "    -t adriangonz/kubeedge-led-example:0.1.0-arm\n",
    "!docker push adriangonz/kubeedge-led-example:0.1.0-arm"
   ]
  },
  {
   "cell_type": "markdown",
   "metadata": {},
   "source": [
    "### Deployment\n",
    "\n",
    "The last step is to create a `Pod` which runs our `led.py` script.\n",
    "\n",
    "It's worth noting that this pod needs privileged access to the `/dev/gpiomem` file, which maps the GPIO board in the Raspberry Pi.\n",
    "We can achieve this by leveraging Kubernetes volumes support."
   ]
  },
  {
   "cell_type": "code",
   "execution_count": 5,
   "metadata": {},
   "outputs": [
    {
     "name": "stdout",
     "output_type": "stream",
     "text": [
      "Overwriting ./charts/pod-led-example.yaml\n"
     ]
    }
   ],
   "source": [
    "%%writefile ./charts/pod-led-example.yaml\n",
    "apiVersion: v1\n",
    "kind: Pod\n",
    "metadata:\n",
    "  name: led-example\n",
    "  namespace: examples\n",
    "spec:\n",
    "  containers:\n",
    "    - name: led-example\n",
    "      image: adriangonz/kubeedge-led-example:0.1.0-arm\n",
    "      volumeMounts:\n",
    "        - mountPath: /dev/gpiomem\n",
    "          name: dev-gpiomem\n",
    "      securityContext:\n",
    "        privileged: true\n",
    "  volumes:\n",
    "    - name: dev-gpiomem\n",
    "      hostPath:\n",
    "        path: /dev/gpiomem\n",
    "  nodeName: raspberry"
   ]
  },
  {
   "cell_type": "markdown",
   "metadata": {},
   "source": [
    "Note that the Pod definition is standard Kubernetes.\n",
    "Once we've got it, we can simply deploy it using `kubectl` as any regular resource."
   ]
  },
  {
   "cell_type": "code",
   "execution_count": 6,
   "metadata": {},
   "outputs": [
    {
     "name": "stdout",
     "output_type": "stream",
     "text": [
      "pod/led-example created\n"
     ]
    }
   ],
   "source": [
    "!kubectl apply -f ./charts/pod-led-example.yaml"
   ]
  },
  {
   "cell_type": "code",
   "execution_count": null,
   "metadata": {},
   "outputs": [],
   "source": []
  }
 ],
 "metadata": {
  "kernelspec": {
   "display_name": "Python 3",
   "language": "python",
   "name": "python3"
  },
  "language_info": {
   "codemirror_mode": {
    "name": "ipython",
    "version": 3
   },
   "file_extension": ".py",
   "mimetype": "text/x-python",
   "name": "python",
   "nbconvert_exporter": "python",
   "pygments_lexer": "ipython3",
   "version": "3.7.8"
  }
 },
 "nbformat": 4,
 "nbformat_minor": 4
}
