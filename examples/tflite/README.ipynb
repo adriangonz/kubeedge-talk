{
 "cells": [
  {
   "cell_type": "markdown",
   "metadata": {},
   "source": [
    "# Inference with TFLite on Edge devices\n",
    "\n",
    "This example walks through how to deploy a TFLite model in an edge device using Seldon Core.\n",
    "In particular, we will deploy a face mask detector in a Raspberry Pi, which will run inference locally from a camera feed.\n",
    "\n",
    "The face mask detector has already been pre-trained by the team at [Aizoo Tech team](https://aizoo.com) who has kindly put it available on the [AIZOOTech/FaceMaskDetection](https://github.com/AIZOOTech/FaceMaskDetection) repository. **Massive thanks to them!**\n"
   ]
  },
  {
   "cell_type": "markdown",
   "metadata": {},
   "source": [
    "## Pre-requisites\n",
    "\n",
    "- Helm"
   ]
  },
  {
   "cell_type": "markdown",
   "metadata": {},
   "source": [
    "### Cluster\n",
    "\n",
    "- Seldon Core \n",
    "- KubeEdge"
   ]
  },
  {
   "cell_type": "markdown",
   "metadata": {},
   "source": [
    "### Edge Device\n",
    "\n",
    "- Raspberry Pi\n",
    "- Already synced with KubeEdge and visible as a node in the K8s cluster"
   ]
  },
  {
   "cell_type": "markdown",
   "metadata": {},
   "source": [
    "## TFLite Inferece Server\n",
    "\n",
    "Out of the box, Seldon Core doesn't offer support for TFLite models (particularly under an ARM architecture).\n",
    "However, as we shall see, it's fairly simple to leverage their support for [custom inference servers](https://docs.seldon.io/projects/seldon-core/en/latest/servers/custom.html)."
   ]
  },
  {
   "cell_type": "markdown",
   "metadata": {},
   "source": [
    "## Deploy model"
   ]
  },
  {
   "cell_type": "code",
   "execution_count": 2,
   "metadata": {},
   "outputs": [
    {
     "name": "stdout",
     "output_type": "stream",
     "text": [
      "\"seldonio\" has been added to your repositories\n",
      "Hang tight while we grab the latest from your chart repositories...\n",
      "...Successfully got an update from the \"istio.io\" chart repository\n",
      "...Successfully got an update from the \"minio\" chart repository\n",
      "...Successfully got an update from the \"appidentityandaccessadapter\" chart repository\n",
      "...Successfully got an update from the \"seldonio\" chart repository\n",
      "...Successfully got an update from the \"jetstack\" chart repository\n",
      "...Successfully got an update from the \"jaegertracing\" chart repository\n",
      "...Successfully got an update from the \"cetic\" chart repository\n",
      "...Successfully got an update from the \"elastic\" chart repository\n",
      "...Successfully got an update from the \"datawire\" chart repository\n",
      "...Successfully got an update from the \"stable\" chart repository\n",
      "...Successfully got an update from the \"bitnami\" chart repository\n",
      "Update Complete. ⎈ Happy Helming!⎈ \n"
     ]
    }
   ],
   "source": [
    "!helm repo add seldonio https://storage.googleapis.com/seldon-charts\n",
    "!helm repo update"
   ]
  },
  {
   "cell_type": "code",
   "execution_count": 5,
   "metadata": {},
   "outputs": [
    {
     "name": "stdout",
     "output_type": "stream",
     "text": [
      "Error: failed to download \"face-mask-detector\" (hint: running `helm repo update` may help)\n"
     ]
    }
   ],
   "source": [
    "!helm template seldonio/seldon-single-model \\\n",
    "    face-mask-detector \\\n",
    "    --namespace examples \\\n",
    "    --set model.image=adriangonz/tfliteserver:0.1.0-arm"
   ]
  },
  {
   "cell_type": "code",
   "execution_count": null,
   "metadata": {},
   "outputs": [],
   "source": []
  }
 ],
 "metadata": {
  "kernelspec": {
   "display_name": "Python 3",
   "language": "python",
   "name": "python3"
  },
  "language_info": {
   "codemirror_mode": {
    "name": "ipython",
    "version": 3
   },
   "file_extension": ".py",
   "mimetype": "text/x-python",
   "name": "python",
   "nbconvert_exporter": "python",
   "pygments_lexer": "ipython3",
   "version": "3.7.8"
  }
 },
 "nbformat": 4,
 "nbformat_minor": 4
}
