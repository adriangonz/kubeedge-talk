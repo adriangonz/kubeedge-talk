{
 "cells": [
  {
   "cell_type": "markdown",
   "metadata": {},
   "source": [
    "# Inference on (the) KubeEdge\n",
    "\n",
    "This repository holds the notebooks and examples that will be shown in the [`Inference on (the) KubeEdge` talk during the Open Source Summit EU 2020](https://osseu2020.sched.com/event/eCFe/inference-on-the-kubeedge-adrian-gonzalez-martin-seldon)."
   ]
  },
  {
   "cell_type": "markdown",
   "metadata": {},
   "source": [
    "## Pre-requirements\n",
    "\n",
    "Most examples require you to have a Kubernetes cluster with KubeEdge installed, as well as a edge device in-sync with the cloud side.\n",
    "We've included some Helm charts and config files that should help you get started.\n",
    "\n",
    "### Disclaimer\n",
    "\n",
    "These instructions haven't been tested fully across multiple environments, so **they are provided as-is**!\n",
    "If you run into any issues, you should check each project's relevant docs:\n",
    "\n",
    "- [Kind](https://kind.sigs.k8s.io/docs/user/quick-start/)\n",
    "- [Helm](https://helm.sh/)\n",
    "- [keadm](https://docs.kubeedge.io/en/latest/setup/keadm.html)"
   ]
  },
  {
   "cell_type": "markdown",
   "metadata": {},
   "source": [
    "### Kubernetes cluster\n",
    "\n",
    "You can use [Kind](https://github.com/kubernetes-sigs/kind) to run a local cluster.\n",
    "We've included a config file that exposes the ports used by `cloudcore`.\n",
    "\n",
    "Once you've got Kind installed, it should be enough to run:"
   ]
  },
  {
   "cell_type": "code",
   "execution_count": null,
   "metadata": {},
   "outputs": [],
   "source": [
    "!kind create cluster \\\n",
    "\t\t--config=./config/kind.yaml \\\n",
    "\t\t--name kubeedge"
   ]
  },
  {
   "cell_type": "markdown",
   "metadata": {},
   "source": [
    "### KubeEdge\n",
    "\n",
    "We've included a simple [Helm](https://helm.sh/) chart that installs `cloudcore`, the cloud-side component of KubeEdge, exposing the ports `10000` and `10002` used to sync with the edge-side.\n",
    "If you've got Helm installed, it should be enough to run:\n",
    "\n",
    "> Make sure you are pointing to your local Kind cluster!"
   ]
  },
  {
   "cell_type": "code",
   "execution_count": null,
   "metadata": {},
   "outputs": [],
   "source": [
    "!kubectl create ns kubeedge\n",
    "!helm install \\\n",
    "\t\tkubeedge \\\n",
    "\t\t./charts/kubeedge \\\n",
    "\t\t--namespace kubeedge"
   ]
  },
  {
   "cell_type": "markdown",
   "metadata": {},
   "source": [
    "### Edge Device\n",
    "\n",
    "Through our examples we've used a Raspberry Pi 3 Model B V1.2 with an ARM architecture of 32 bits.\n",
    "This device will need to have the edge-side component of KubeEdge (`edgecore`) installed and running.\n",
    "\n",
    "To do this, we can use the [`keadm` tool](https://docs.kubeedge.io/en/latest/setup/keadm.html), built by the KubeEdge project.\n",
    "To install it an edge device you can download it directly from the [project's GitHub release page](https://github.com/kubeedge/kubeedge/releases/download/v1.4.0/keadm-v1.4.0-linux-arm.tar.gz).\n",
    "You can also leverage the included `Makefile` target as:\n",
    "\n",
    "> This needs to be run on the edge-side!"
   ]
  },
  {
   "cell_type": "code",
   "execution_count": null,
   "metadata": {},
   "outputs": [],
   "source": [
    "!make install-keadm"
   ]
  },
  {
   "cell_type": "markdown",
   "metadata": {},
   "source": [
    "Once downloaded, you will need to join the device to the cluster.\n",
    "To do this, you first need a secret token from the cloud-side.\n",
    "This token can be retrieved as:\n",
    "\n",
    "> Note that this command needs to run on the cloud side!"
   ]
  },
  {
   "cell_type": "code",
   "execution_count": null,
   "metadata": {},
   "outputs": [],
   "source": [
    "!kubectl get secret \\\n",
    "\t\t-n kubeedge \\\n",
    "\t\ttokensecret \\\n",
    "\t\t-o=jsonpath='{.data.tokendata}' | base64 -d"
   ]
  },
  {
   "cell_type": "markdown",
   "metadata": {},
   "source": [
    "Once `keadm` is installed and we've got the token, we can then join to the cloud side by running:"
   ]
  },
  {
   "cell_type": "code",
   "execution_count": null,
   "metadata": {},
   "outputs": [],
   "source": [
    "!sudo keadm join \\\n",
    "    --cloudcore-ipport=${CLOUD_SIDE_IP}:10000 \\\n",
    "    --token=${CLOUD_SECRET_TOKEN} \\\n",
    "    --interfacename ${INTERNET_INTERFACE:wlan0} \\\n",
    "    -i raspberry"
   ]
  },
  {
   "cell_type": "markdown",
   "metadata": {},
   "source": [
    "## Usage\n",
    "\n",
    "Once your environment is set up, you can check the examples shown during the talk:\n",
    "\n",
    "- [LED Blinker](./examples/led)\n",
    "- [Face Mask Detector](./examples/face-mask-detector)"
   ]
  },
  {
   "cell_type": "code",
   "execution_count": null,
   "metadata": {},
   "outputs": [],
   "source": []
  }
 ],
 "metadata": {
  "kernelspec": {
   "display_name": "Python 3",
   "language": "python",
   "name": "python3"
  },
  "language_info": {
   "codemirror_mode": {
    "name": "ipython",
    "version": 3
   },
   "file_extension": ".py",
   "mimetype": "text/x-python",
   "name": "python",
   "nbconvert_exporter": "python",
   "pygments_lexer": "ipython3",
   "version": "3.7.8"
  }
 },
 "nbformat": 4,
 "nbformat_minor": 4
}
